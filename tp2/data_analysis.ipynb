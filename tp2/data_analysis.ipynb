{
 "metadata": {
  "language_info": {
   "codemirror_mode": {
    "name": "ipython",
    "version": 3
   },
   "file_extension": ".py",
   "mimetype": "text/x-python",
   "name": "python",
   "nbconvert_exporter": "python",
   "pygments_lexer": "ipython3",
   "version": "3.8.5-final"
  },
  "orig_nbformat": 2,
  "kernelspec": {
   "name": "Python 3.8.5 64-bit ('science')",
   "display_name": "Python 3.8.5 64-bit ('science')",
   "metadata": {
    "interpreter": {
     "hash": "3439c4caa22632cf57b2f0b3b92f227e027a7feef5c5b998cf5d61fc83629b4b"
    }
   }
  }
 },
 "nbformat": 4,
 "nbformat_minor": 2,
 "cells": [
  {
   "cell_type": "code",
   "execution_count": 5,
   "metadata": {},
   "outputs": [],
   "source": [
    "import pandas as pd\n"
   ]
  },
  {
   "cell_type": "code",
   "execution_count": 6,
   "metadata": {},
   "outputs": [],
   "source": [
    "#with open\n",
    "data = pd.read_csv(\"result.csv\")"
   ]
  },
  {
   "cell_type": "code",
   "execution_count": 7,
   "metadata": {},
   "outputs": [
    {
     "output_type": "execute_result",
     "data": {
      "text/plain": [
       "    tamanho(bytes)  latencia(s)    vazao(bps)   Lost Packages\n",
       "0              1.0     0.009837  8.132674e+02             0.0\n",
       "1            100.0     0.010155  7.878242e+04             0.0\n",
       "2            200.0     0.010262  1.559188e+05             0.0\n",
       "3            300.0     0.010641  2.255393e+05             0.0\n",
       "4            400.0     0.010803  2.962091e+05             0.0\n",
       "5            500.0     0.011859  3.373076e+05             0.0\n",
       "6            600.0     0.011991  4.002874e+05             0.0\n",
       "7            700.0     0.011433  4.898191e+05             0.0\n",
       "8            800.0     0.010986  5.825490e+05             0.0\n",
       "9            900.0     0.011452  6.286980e+05             0.0\n",
       "10          1000.0     0.014115  5.667582e+05             0.0\n",
       "11          1024.0     0.017370  4.716219e+05             0.0\n",
       "12          2048.0     0.013184  1.242721e+06             0.0\n",
       "13          3072.0     0.014045  1.749822e+06             0.0\n",
       "14          4096.0     0.015061  2.175756e+06             0.0\n",
       "15          5120.0     0.015552  2.633817e+06             0.0\n",
       "16          6144.0     0.014439  3.404213e+06             0.0\n",
       "17          7168.0     0.014503  3.953885e+06             0.0\n",
       "18          8192.0     0.015947  4.109698e+06             0.0\n",
       "19          9216.0     0.017654  4.176292e+06             0.0\n",
       "20         10240.0     0.018155  4.512221e+06             0.0\n",
       "21         11264.0     0.017505  5.147768e+06             0.0\n",
       "22         12288.0     0.019065  5.156305e+06             0.0\n",
       "23         13312.0     0.018961  5.616481e+06             0.0\n",
       "24         14336.0     0.018284  6.272612e+06             0.0\n",
       "25         15360.0     0.018532  6.630640e+06             0.0\n",
       "26         16384.0     0.021648  6.054806e+06             0.0\n",
       "27         17408.0     0.022075  6.308561e+06             0.0\n",
       "28         18432.0     0.021564  6.837978e+06             0.0\n",
       "29         19456.0     0.021157  7.356950e+06             0.0\n",
       "30         20480.0     0.021760  7.529377e+06             0.0\n",
       "31         21504.0     0.021374  8.048613e+06             0.0\n",
       "32         22528.0     0.021399  8.422082e+06             0.0\n",
       "33         23552.0     0.021720  8.674960e+06             0.0\n",
       "34         24576.0     0.022066  8.910023e+06             0.0\n",
       "35         25600.0     0.023699  8.641565e+06             0.0\n",
       "36         26624.0     0.024959  8.533706e+06             0.0\n",
       "37         27648.0     0.022924  9.648781e+06             0.0\n",
       "38         28672.0     0.022357  1.025957e+07             0.0\n",
       "39         29696.0     0.023522  1.009978e+07             0.0\n",
       "40         30720.0     0.022125  1.110767e+07             0.0\n",
       "41         31744.0     0.022197  1.144095e+07             0.0\n",
       "42         32768.0     0.022823  1.148619e+07             0.0"
      ],
      "text/html": "<div>\n<style scoped>\n    .dataframe tbody tr th:only-of-type {\n        vertical-align: middle;\n    }\n\n    .dataframe tbody tr th {\n        vertical-align: top;\n    }\n\n    .dataframe thead th {\n        text-align: right;\n    }\n</style>\n<table border=\"1\" class=\"dataframe\">\n  <thead>\n    <tr style=\"text-align: right;\">\n      <th></th>\n      <th>tamanho(bytes)</th>\n      <th>latencia(s)</th>\n      <th>vazao(bps)</th>\n      <th>Lost Packages</th>\n    </tr>\n  </thead>\n  <tbody>\n    <tr>\n      <th>0</th>\n      <td>1.0</td>\n      <td>0.009837</td>\n      <td>8.132674e+02</td>\n      <td>0.0</td>\n    </tr>\n    <tr>\n      <th>1</th>\n      <td>100.0</td>\n      <td>0.010155</td>\n      <td>7.878242e+04</td>\n      <td>0.0</td>\n    </tr>\n    <tr>\n      <th>2</th>\n      <td>200.0</td>\n      <td>0.010262</td>\n      <td>1.559188e+05</td>\n      <td>0.0</td>\n    </tr>\n    <tr>\n      <th>3</th>\n      <td>300.0</td>\n      <td>0.010641</td>\n      <td>2.255393e+05</td>\n      <td>0.0</td>\n    </tr>\n    <tr>\n      <th>4</th>\n      <td>400.0</td>\n      <td>0.010803</td>\n      <td>2.962091e+05</td>\n      <td>0.0</td>\n    </tr>\n    <tr>\n      <th>5</th>\n      <td>500.0</td>\n      <td>0.011859</td>\n      <td>3.373076e+05</td>\n      <td>0.0</td>\n    </tr>\n    <tr>\n      <th>6</th>\n      <td>600.0</td>\n      <td>0.011991</td>\n      <td>4.002874e+05</td>\n      <td>0.0</td>\n    </tr>\n    <tr>\n      <th>7</th>\n      <td>700.0</td>\n      <td>0.011433</td>\n      <td>4.898191e+05</td>\n      <td>0.0</td>\n    </tr>\n    <tr>\n      <th>8</th>\n      <td>800.0</td>\n      <td>0.010986</td>\n      <td>5.825490e+05</td>\n      <td>0.0</td>\n    </tr>\n    <tr>\n      <th>9</th>\n      <td>900.0</td>\n      <td>0.011452</td>\n      <td>6.286980e+05</td>\n      <td>0.0</td>\n    </tr>\n    <tr>\n      <th>10</th>\n      <td>1000.0</td>\n      <td>0.014115</td>\n      <td>5.667582e+05</td>\n      <td>0.0</td>\n    </tr>\n    <tr>\n      <th>11</th>\n      <td>1024.0</td>\n      <td>0.017370</td>\n      <td>4.716219e+05</td>\n      <td>0.0</td>\n    </tr>\n    <tr>\n      <th>12</th>\n      <td>2048.0</td>\n      <td>0.013184</td>\n      <td>1.242721e+06</td>\n      <td>0.0</td>\n    </tr>\n    <tr>\n      <th>13</th>\n      <td>3072.0</td>\n      <td>0.014045</td>\n      <td>1.749822e+06</td>\n      <td>0.0</td>\n    </tr>\n    <tr>\n      <th>14</th>\n      <td>4096.0</td>\n      <td>0.015061</td>\n      <td>2.175756e+06</td>\n      <td>0.0</td>\n    </tr>\n    <tr>\n      <th>15</th>\n      <td>5120.0</td>\n      <td>0.015552</td>\n      <td>2.633817e+06</td>\n      <td>0.0</td>\n    </tr>\n    <tr>\n      <th>16</th>\n      <td>6144.0</td>\n      <td>0.014439</td>\n      <td>3.404213e+06</td>\n      <td>0.0</td>\n    </tr>\n    <tr>\n      <th>17</th>\n      <td>7168.0</td>\n      <td>0.014503</td>\n      <td>3.953885e+06</td>\n      <td>0.0</td>\n    </tr>\n    <tr>\n      <th>18</th>\n      <td>8192.0</td>\n      <td>0.015947</td>\n      <td>4.109698e+06</td>\n      <td>0.0</td>\n    </tr>\n    <tr>\n      <th>19</th>\n      <td>9216.0</td>\n      <td>0.017654</td>\n      <td>4.176292e+06</td>\n      <td>0.0</td>\n    </tr>\n    <tr>\n      <th>20</th>\n      <td>10240.0</td>\n      <td>0.018155</td>\n      <td>4.512221e+06</td>\n      <td>0.0</td>\n    </tr>\n    <tr>\n      <th>21</th>\n      <td>11264.0</td>\n      <td>0.017505</td>\n      <td>5.147768e+06</td>\n      <td>0.0</td>\n    </tr>\n    <tr>\n      <th>22</th>\n      <td>12288.0</td>\n      <td>0.019065</td>\n      <td>5.156305e+06</td>\n      <td>0.0</td>\n    </tr>\n    <tr>\n      <th>23</th>\n      <td>13312.0</td>\n      <td>0.018961</td>\n      <td>5.616481e+06</td>\n      <td>0.0</td>\n    </tr>\n    <tr>\n      <th>24</th>\n      <td>14336.0</td>\n      <td>0.018284</td>\n      <td>6.272612e+06</td>\n      <td>0.0</td>\n    </tr>\n    <tr>\n      <th>25</th>\n      <td>15360.0</td>\n      <td>0.018532</td>\n      <td>6.630640e+06</td>\n      <td>0.0</td>\n    </tr>\n    <tr>\n      <th>26</th>\n      <td>16384.0</td>\n      <td>0.021648</td>\n      <td>6.054806e+06</td>\n      <td>0.0</td>\n    </tr>\n    <tr>\n      <th>27</th>\n      <td>17408.0</td>\n      <td>0.022075</td>\n      <td>6.308561e+06</td>\n      <td>0.0</td>\n    </tr>\n    <tr>\n      <th>28</th>\n      <td>18432.0</td>\n      <td>0.021564</td>\n      <td>6.837978e+06</td>\n      <td>0.0</td>\n    </tr>\n    <tr>\n      <th>29</th>\n      <td>19456.0</td>\n      <td>0.021157</td>\n      <td>7.356950e+06</td>\n      <td>0.0</td>\n    </tr>\n    <tr>\n      <th>30</th>\n      <td>20480.0</td>\n      <td>0.021760</td>\n      <td>7.529377e+06</td>\n      <td>0.0</td>\n    </tr>\n    <tr>\n      <th>31</th>\n      <td>21504.0</td>\n      <td>0.021374</td>\n      <td>8.048613e+06</td>\n      <td>0.0</td>\n    </tr>\n    <tr>\n      <th>32</th>\n      <td>22528.0</td>\n      <td>0.021399</td>\n      <td>8.422082e+06</td>\n      <td>0.0</td>\n    </tr>\n    <tr>\n      <th>33</th>\n      <td>23552.0</td>\n      <td>0.021720</td>\n      <td>8.674960e+06</td>\n      <td>0.0</td>\n    </tr>\n    <tr>\n      <th>34</th>\n      <td>24576.0</td>\n      <td>0.022066</td>\n      <td>8.910023e+06</td>\n      <td>0.0</td>\n    </tr>\n    <tr>\n      <th>35</th>\n      <td>25600.0</td>\n      <td>0.023699</td>\n      <td>8.641565e+06</td>\n      <td>0.0</td>\n    </tr>\n    <tr>\n      <th>36</th>\n      <td>26624.0</td>\n      <td>0.024959</td>\n      <td>8.533706e+06</td>\n      <td>0.0</td>\n    </tr>\n    <tr>\n      <th>37</th>\n      <td>27648.0</td>\n      <td>0.022924</td>\n      <td>9.648781e+06</td>\n      <td>0.0</td>\n    </tr>\n    <tr>\n      <th>38</th>\n      <td>28672.0</td>\n      <td>0.022357</td>\n      <td>1.025957e+07</td>\n      <td>0.0</td>\n    </tr>\n    <tr>\n      <th>39</th>\n      <td>29696.0</td>\n      <td>0.023522</td>\n      <td>1.009978e+07</td>\n      <td>0.0</td>\n    </tr>\n    <tr>\n      <th>40</th>\n      <td>30720.0</td>\n      <td>0.022125</td>\n      <td>1.110767e+07</td>\n      <td>0.0</td>\n    </tr>\n    <tr>\n      <th>41</th>\n      <td>31744.0</td>\n      <td>0.022197</td>\n      <td>1.144095e+07</td>\n      <td>0.0</td>\n    </tr>\n    <tr>\n      <th>42</th>\n      <td>32768.0</td>\n      <td>0.022823</td>\n      <td>1.148619e+07</td>\n      <td>0.0</td>\n    </tr>\n  </tbody>\n</table>\n</div>"
     },
     "metadata": {},
     "execution_count": 7
    }
   ],
   "source": [
    "data"
   ]
  }
 ]
}